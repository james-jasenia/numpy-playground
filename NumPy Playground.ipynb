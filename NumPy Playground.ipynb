{
 "cells": [
  {
   "cell_type": "markdown",
   "id": "c69d0401",
   "metadata": {},
   "source": [
    "<h1 style=\"color:blue;text-align:center;\">NumPy Playground</h1>"
   ]
  },
  {
   "cell_type": "markdown",
   "id": "9bad133a",
   "metadata": {},
   "source": [
    "<h2>Imports</h2>"
   ]
  },
  {
   "cell_type": "code",
   "execution_count": 12,
   "id": "d38271d0",
   "metadata": {},
   "outputs": [],
   "source": [
    "import numpy as np"
   ]
  },
  {
   "cell_type": "markdown",
   "id": "82230ff4",
   "metadata": {},
   "source": [
    "<h2>Create</h2>"
   ]
  },
  {
   "cell_type": "code",
   "execution_count": 157,
   "id": "85b3b4af",
   "metadata": {},
   "outputs": [
    {
     "data": {
      "text/plain": [
       "array([[0.72319549, 0.39502007],\n",
       "       [0.13944012, 0.0719303 ],\n",
       "       [0.65223496, 0.36249108]])"
      ]
     },
     "execution_count": 157,
     "metadata": {},
     "output_type": "execute_result"
    }
   ],
   "source": [
    "# Will create a random array with comma seperated parameters representing the number of indexes in each dimensions of the array.\n",
    "# An additional parameter will add an additional dimension.\n",
    "\n",
    "floatData = np.random.rand(3,2)\n",
    "floatData"
   ]
  },
  {
   "cell_type": "code",
   "execution_count": 158,
   "id": "77d9ed01",
   "metadata": {},
   "outputs": [
    {
     "data": {
      "text/plain": [
       "array([[8, 9],\n",
       "       [3, 0],\n",
       "       [2, 5]])"
      ]
     },
     "execution_count": 158,
     "metadata": {},
     "output_type": "execute_result"
    }
   ],
   "source": [
    "# Different data types have differnet way of specificying the number of dimensions which is a little tilting.\n",
    "intData = np.random.randint(10, size=(3,2))\n",
    "intData"
   ]
  },
  {
   "cell_type": "code",
   "execution_count": 159,
   "id": "52f6dd44",
   "metadata": {},
   "outputs": [
    {
     "data": {
      "text/plain": [
       "array([[0, 0]])"
      ]
     },
     "execution_count": 159,
     "metadata": {},
     "output_type": "execute_result"
    }
   ],
   "source": [
    "# The shape is the first parameter as a tuple.\n",
    "zeroes = np.zeros((1, 2), dtype=int)\n",
    "zeroes"
   ]
  },
  {
   "cell_type": "code",
   "execution_count": 160,
   "id": "399a4cc8",
   "metadata": {},
   "outputs": [
    {
     "data": {
      "text/plain": [
       "array([[7, 7, 7],\n",
       "       [7, 7, 7]])"
      ]
     },
     "execution_count": 160,
     "metadata": {},
     "output_type": "execute_result"
    }
   ],
   "source": [
    "# The shape is the first parameter as a tuple.\n",
    "full = np.full((2, 3), 7)\n",
    "full"
   ]
  },
  {
   "cell_type": "code",
   "execution_count": 164,
   "id": "fe0512e0",
   "metadata": {},
   "outputs": [
    {
     "data": {
      "text/plain": [
       "array([[[1, 1],\n",
       "        [1, 1]],\n",
       "\n",
       "       [[1, 1],\n",
       "        [1, 1]]])"
      ]
     },
     "execution_count": 164,
     "metadata": {},
     "output_type": "execute_result"
    }
   ],
   "source": [
    "# The shape is the first parameter as a tuple.\n",
    "ones = np.ones((2,2,2), dtype=int)\n",
    "ones"
   ]
  },
  {
   "cell_type": "code",
   "execution_count": 169,
   "id": "c614861e",
   "metadata": {},
   "outputs": [
    {
     "name": "stdout",
     "output_type": "stream",
     "text": [
      "[2 3 4]\n"
     ]
    }
   ],
   "source": [
    "# You can initialise your own array.\n",
    "initArray = np.array([2,3,4])\n",
    "print(initArray)"
   ]
  },
  {
   "cell_type": "markdown",
   "id": "93cbdaef",
   "metadata": {},
   "source": [
    "<h2>Read</h2>"
   ]
  },
  {
   "cell_type": "code",
   "execution_count": 197,
   "id": "3fa35225",
   "metadata": {},
   "outputs": [
    {
     "data": {
      "text/plain": [
       "array([[0.88496695, 0.62237958, 0.90540177],\n",
       "       [0.93888906, 0.44437996, 0.95256602],\n",
       "       [0.27455452, 0.38366212, 0.58124431]])"
      ]
     },
     "execution_count": 197,
     "metadata": {},
     "output_type": "execute_result"
    }
   ],
   "source": [
    "# Data for following sections\n",
    "data = np.random.rand(3,3)\n",
    "data"
   ]
  },
  {
   "cell_type": "code",
   "execution_count": 201,
   "id": "2836552f",
   "metadata": {},
   "outputs": [
    {
     "data": {
      "text/plain": [
       "(3, 3)"
      ]
     },
     "execution_count": 201,
     "metadata": {},
     "output_type": "execute_result"
    }
   ],
   "source": [
    "# Shape attribute\n",
    "shape = data.shape\n",
    "shape"
   ]
  },
  {
   "cell_type": "code",
   "execution_count": 200,
   "id": "ae75953d",
   "metadata": {},
   "outputs": [
    {
     "data": {
      "text/plain": [
       "9"
      ]
     },
     "execution_count": 200,
     "metadata": {},
     "output_type": "execute_result"
    }
   ],
   "source": [
    "# Size Attribute - Total number of elements of the base type across all arrays dimensions (.count)\n",
    "size = data.size\n",
    "size"
   ]
  },
  {
   "cell_type": "code",
   "execution_count": 199,
   "id": "20c3723e",
   "metadata": {},
   "outputs": [
    {
     "data": {
      "text/plain": [
       "dtype('float64')"
      ]
     },
     "execution_count": 199,
     "metadata": {},
     "output_type": "execute_result"
    }
   ],
   "source": [
    "# Type Attribute\n",
    "types = data.dtype\n",
    "types"
   ]
  },
  {
   "cell_type": "code",
   "execution_count": 202,
   "id": "297cece4",
   "metadata": {},
   "outputs": [
    {
     "data": {
      "text/plain": [
       "array([0.88496695, 0.62237958, 0.90540177])"
      ]
     },
     "execution_count": 202,
     "metadata": {},
     "output_type": "execute_result"
    }
   ],
   "source": [
    "# Accessing a value at index\n",
    "value = data[0]\n",
    "value"
   ]
  },
  {
   "cell_type": "code",
   "execution_count": 206,
   "id": "e2787229",
   "metadata": {},
   "outputs": [
    {
     "data": {
      "text/plain": [
       "array([[0.88496695, 0.62237958, 0.90540177],\n",
       "       [0.93888906, 0.44437996, 0.95256602]])"
      ]
     },
     "execution_count": 206,
     "metadata": {},
     "output_type": "execute_result"
    }
   ],
   "source": [
    "# Get a range of indicides (up to but not including the value on the right)\n",
    "# Index 0 and 1\n",
    "range = data[0:2]\n",
    "range"
   ]
  },
  {
   "cell_type": "code",
   "execution_count": 212,
   "id": "feb9715e",
   "metadata": {},
   "outputs": [
    {
     "data": {
      "text/plain": [
       "0.5812443086465364"
      ]
     },
     "execution_count": 212,
     "metadata": {},
     "output_type": "execute_result"
    }
   ],
   "source": [
    "# Negative starts from the end and moves across (it has to be -1 or less as you can't have -0)\n",
    "reverse = data[-1][-1]\n",
    "reverse"
   ]
  },
  {
   "cell_type": "markdown",
   "id": "e7e108cd",
   "metadata": {},
   "source": [
    "<h2>Update</h2>"
   ]
  },
  {
   "cell_type": "code",
   "execution_count": 215,
   "id": "fd1760d1",
   "metadata": {},
   "outputs": [
    {
     "data": {
      "text/plain": [
       "array([0.60021367, 0.34299665, 0.62456557, 0.22983874, 0.24308194,\n",
       "       0.08846441, 0.75680419, 0.90391667, 0.57758502, 0.83688457])"
      ]
     },
     "execution_count": 215,
     "metadata": {},
     "output_type": "execute_result"
    }
   ],
   "source": [
    "list1 = np.random.rand(10)\n",
    "list1"
   ]
  },
  {
   "cell_type": "code",
   "execution_count": 221,
   "id": "88863862",
   "metadata": {},
   "outputs": [
    {
     "data": {
      "text/plain": [
       "array([0.46115952, 0.24956138, 0.45952247, 0.89754979, 0.11398792,\n",
       "       0.8795637 , 0.28503448, 0.034935  , 0.97359249, 0.41088379])"
      ]
     },
     "execution_count": 221,
     "metadata": {},
     "output_type": "execute_result"
    }
   ],
   "source": [
    "list2 = np.random.rand(10)\n",
    "list2"
   ]
  },
  {
   "cell_type": "code",
   "execution_count": 223,
   "id": "dcc4496d",
   "metadata": {},
   "outputs": [
    {
     "data": {
      "text/plain": [
       "array([1.06137319, 0.59255803, 1.08408804, 1.12738853, 0.35706987,\n",
       "       0.96802811, 1.04183867, 0.93885168, 1.5511775 , 1.24776837])"
      ]
     },
     "execution_count": 223,
     "metadata": {},
     "output_type": "execute_result"
    }
   ],
   "source": [
    "# Add - The shape must be equal\n",
    "add = np.add(list1, list2)\n",
    "add"
   ]
  },
  {
   "cell_type": "code",
   "execution_count": 226,
   "id": "aeabf38d",
   "metadata": {},
   "outputs": [
    {
     "data": {
      "text/plain": [
       "array([ 0.13905416,  0.09343527,  0.1650431 , -0.66771106,  0.12909402,\n",
       "       -0.79109928,  0.47176972,  0.86898167, -0.39600747,  0.42600078])"
      ]
     },
     "execution_count": 226,
     "metadata": {},
     "output_type": "execute_result"
    }
   ],
   "source": [
    "# Subtract - The shape must be equal\n",
    "subtract = np.subtract(list1, list2)\n",
    "subtract"
   ]
  },
  {
   "cell_type": "code",
   "execution_count": 229,
   "id": "85ce1110",
   "metadata": {},
   "outputs": [
    {
     "data": {
      "text/plain": [
       "array([0.27679425, 0.08559872, 0.28700191, 0.20629171, 0.02770841,\n",
       "       0.07781009, 0.21571529, 0.03157833, 0.56233243, 0.34386231])"
      ]
     },
     "execution_count": 229,
     "metadata": {},
     "output_type": "execute_result"
    }
   ],
   "source": [
    "# Multiple - The shape must be equal\n",
    "multiply = np.multiply(list1, list2)\n",
    "multiply"
   ]
  },
  {
   "cell_type": "code",
   "execution_count": 230,
   "id": "21a9d1f2",
   "metadata": {},
   "outputs": [
    {
     "data": {
      "text/plain": [
       "array([ 1.30153158,  1.37439795,  1.35916219,  0.25607352,  2.13252367,\n",
       "        0.10057761,  2.65513213, 25.87424117,  0.59325131,  2.03679139])"
      ]
     },
     "execution_count": 230,
     "metadata": {},
     "output_type": "execute_result"
    }
   ],
   "source": [
    "# Divide - The shape must be equal\n",
    "divide = np.divide(list1, list2)\n",
    "divide"
   ]
  },
  {
   "cell_type": "code",
   "execution_count": 232,
   "id": "7abd62e4",
   "metadata": {},
   "outputs": [
    {
     "data": {
      "text/plain": [
       "2.1146934406419606"
      ]
     },
     "execution_count": 232,
     "metadata": {},
     "output_type": "execute_result"
    }
   ],
   "source": [
    "# Dot - (a1b1 + a2b2 ... anbn)\n",
    "dot = np.dot(list1, list2)\n",
    "dot"
   ]
  },
  {
   "cell_type": "code",
   "execution_count": 234,
   "id": "d60cea6a",
   "metadata": {},
   "outputs": [],
   "source": [
    "# SAPLEMM - Suggested way to remember the statistical method"
   ]
  },
  {
   "cell_type": "code",
   "execution_count": 235,
   "id": "5a0c73dc",
   "metadata": {},
   "outputs": [
    {
     "data": {
      "text/plain": [
       "5.0"
      ]
     },
     "execution_count": 235,
     "metadata": {},
     "output_type": "execute_result"
    }
   ],
   "source": [
    "sqrRoot = np.sqrt(25)\n",
    "sqrRoot"
   ]
  },
  {
   "cell_type": "code",
   "execution_count": 236,
   "id": "298695bd",
   "metadata": {},
   "outputs": [
    {
     "data": {
      "text/plain": [
       "2"
      ]
     },
     "execution_count": 236,
     "metadata": {},
     "output_type": "execute_result"
    }
   ],
   "source": [
    "# Absolute\n",
    "absolute = np.abs(-2)\n",
    "absolute"
   ]
  },
  {
   "cell_type": "code",
   "execution_count": 237,
   "id": "cba516f1",
   "metadata": {},
   "outputs": [
    {
     "data": {
      "text/plain": [
       "8"
      ]
     },
     "execution_count": 237,
     "metadata": {},
     "output_type": "execute_result"
    }
   ],
   "source": [
    "# Power\n",
    "power = np.power(2, 3)\n",
    "power"
   ]
  },
  {
   "cell_type": "code",
   "execution_count": 246,
   "id": "662019a3",
   "metadata": {},
   "outputs": [
    {
     "data": {
      "text/plain": [
       "2.0"
      ]
     },
     "execution_count": 246,
     "metadata": {},
     "output_type": "execute_result"
    }
   ],
   "source": [
    "# log \n",
    "log = np.log10(100)\n",
    "log"
   ]
  },
  {
   "cell_type": "code",
   "execution_count": 248,
   "id": "0fce60b3",
   "metadata": {},
   "outputs": [
    {
     "data": {
      "text/plain": [
       "array([20.08553692,  7.3890561 ])"
      ]
     },
     "execution_count": 248,
     "metadata": {},
     "output_type": "execute_result"
    }
   ],
   "source": [
    "exp = np.exp([3,2])\n",
    "exp"
   ]
  },
  {
   "cell_type": "code",
   "execution_count": 250,
   "id": "6c2a1c5e",
   "metadata": {},
   "outputs": [
    {
     "data": {
      "text/plain": [
       "0.08846441474494471"
      ]
     },
     "execution_count": 250,
     "metadata": {},
     "output_type": "execute_result"
    }
   ],
   "source": [
    "min = np.min(list1)\n",
    "min"
   ]
  },
  {
   "cell_type": "code",
   "execution_count": 254,
   "id": "309565e1",
   "metadata": {},
   "outputs": [
    {
     "data": {
      "text/plain": [
       "0.9039166731925476"
      ]
     },
     "execution_count": 254,
     "metadata": {},
     "output_type": "execute_result"
    }
   ],
   "source": [
    "max = np.max(list1)\n",
    "max"
   ]
  },
  {
   "cell_type": "code",
   "execution_count": 258,
   "id": "ea391079",
   "metadata": {},
   "outputs": [
    {
     "data": {
      "text/plain": [
       "array([[100.        ,   0.62237958,   0.90540177],\n",
       "       [  0.93888906,   0.44437996,   0.95256602],\n",
       "       [  0.27455452,   0.38366212,   0.58124431]])"
      ]
     },
     "execution_count": 258,
     "metadata": {},
     "output_type": "execute_result"
    }
   ],
   "source": [
    "# Updating a value\n",
    "data[0][0] = 100\n",
    "data"
   ]
  },
  {
   "cell_type": "code",
   "execution_count": 261,
   "id": "afaf67aa",
   "metadata": {},
   "outputs": [
    {
     "data": {
      "text/plain": [
       "array([[  0.62237958,   0.90540177, 100.        ],\n",
       "       [  0.44437996,   0.93888906,   0.95256602],\n",
       "       [  0.27455452,   0.38366212,   0.58124431]])"
      ]
     },
     "execution_count": 261,
     "metadata": {},
     "output_type": "execute_result"
    }
   ],
   "source": [
    "# Sorting\n",
    "data.sort()\n",
    "data"
   ]
  },
  {
   "cell_type": "code",
   "execution_count": 265,
   "id": "7ad5c7e1",
   "metadata": {},
   "outputs": [
    {
     "data": {
      "text/plain": [
       "array([6.22379577e-01, 9.05401766e-01, 1.00000000e+02, 4.44379958e-01,\n",
       "       9.38889058e-01, 9.52566016e-01, 2.74554519e-01, 3.83662120e-01,\n",
       "       5.81244309e-01, 1.00000000e+02, 1.00000000e+02, 1.00000000e+02,\n",
       "       1.00000000e+02, 5.00000000e+02, 5.00000000e+02, 5.00000000e+02,\n",
       "       5.00000000e+02])"
      ]
     },
     "execution_count": 265,
     "metadata": {},
     "output_type": "execute_result"
    }
   ],
   "source": [
    "# Appending\n",
    "data = np.append(data, [500, 500])\n",
    "data"
   ]
  },
  {
   "cell_type": "code",
   "execution_count": 267,
   "id": "575dc961",
   "metadata": {},
   "outputs": [
    {
     "data": {
      "text/plain": [
       "array([9.00000000e+02, 9.00000000e+02, 6.22379577e-01, 9.05401766e-01,\n",
       "       1.00000000e+02, 4.44379958e-01, 9.38889058e-01, 9.52566016e-01,\n",
       "       2.74554519e-01, 3.83662120e-01, 5.81244309e-01, 1.00000000e+02,\n",
       "       1.00000000e+02, 1.00000000e+02, 1.00000000e+02, 5.00000000e+02,\n",
       "       5.00000000e+02, 5.00000000e+02, 5.00000000e+02])"
      ]
     },
     "execution_count": 267,
     "metadata": {},
     "output_type": "execute_result"
    }
   ],
   "source": [
    "# Insert\n",
    "data = np.insert(data, 0, 900)\n",
    "data"
   ]
  },
  {
   "cell_type": "markdown",
   "id": "35edf846",
   "metadata": {},
   "source": [
    "<h2>Delete</h2>"
   ]
  },
  {
   "cell_type": "code",
   "execution_count": 270,
   "id": "4f2adff3",
   "metadata": {},
   "outputs": [
    {
     "data": {
      "text/plain": [
       "array([[[0.35253154, 0.74681324],\n",
       "        [0.67139594, 0.78821017],\n",
       "        [0.49799985, 0.09970005],\n",
       "        [0.677165  , 0.36885184],\n",
       "        [0.75575336, 0.16273419]],\n",
       "\n",
       "       [[0.16966685, 0.76690817],\n",
       "        [0.68527226, 0.5316314 ],\n",
       "        [0.49505123, 0.49134671],\n",
       "        [0.0796984 , 0.56396864],\n",
       "        [0.96807573, 0.12827742]],\n",
       "\n",
       "       [[0.362001  , 0.79544927],\n",
       "        [0.2128533 , 0.9614521 ],\n",
       "        [0.29737016, 0.35067423],\n",
       "        [0.56234977, 0.34027417],\n",
       "        [0.05662399, 0.47637933]],\n",
       "\n",
       "       [[0.49775483, 0.59102266],\n",
       "        [0.99061465, 0.90902119],\n",
       "        [0.94762893, 0.06078625],\n",
       "        [0.80005583, 0.8613111 ],\n",
       "        [0.84117842, 0.27014171]],\n",
       "\n",
       "       [[0.72988583, 0.39904536],\n",
       "        [0.44417802, 0.61545773],\n",
       "        [0.26481397, 0.39350946],\n",
       "        [0.47634533, 0.57830068],\n",
       "        [0.91891556, 0.52744863]]])"
      ]
     },
     "execution_count": 270,
     "metadata": {},
     "output_type": "execute_result"
    }
   ],
   "source": [
    "anyArray = np.random.rand(5,5,2)\n",
    "anyArray"
   ]
  },
  {
   "cell_type": "code",
   "execution_count": 272,
   "id": "c9730cdb",
   "metadata": {},
   "outputs": [
    {
     "data": {
      "text/plain": [
       "array([[[0.67139594, 0.78821017],\n",
       "        [0.49799985, 0.09970005],\n",
       "        [0.677165  , 0.36885184],\n",
       "        [0.75575336, 0.16273419]],\n",
       "\n",
       "       [[0.68527226, 0.5316314 ],\n",
       "        [0.49505123, 0.49134671],\n",
       "        [0.0796984 , 0.56396864],\n",
       "        [0.96807573, 0.12827742]],\n",
       "\n",
       "       [[0.2128533 , 0.9614521 ],\n",
       "        [0.29737016, 0.35067423],\n",
       "        [0.56234977, 0.34027417],\n",
       "        [0.05662399, 0.47637933]],\n",
       "\n",
       "       [[0.99061465, 0.90902119],\n",
       "        [0.94762893, 0.06078625],\n",
       "        [0.80005583, 0.8613111 ],\n",
       "        [0.84117842, 0.27014171]],\n",
       "\n",
       "       [[0.44417802, 0.61545773],\n",
       "        [0.26481397, 0.39350946],\n",
       "        [0.47634533, 0.57830068],\n",
       "        [0.91891556, 0.52744863]]])"
      ]
     },
     "execution_count": 272,
     "metadata": {},
     "output_type": "execute_result"
    }
   ],
   "source": [
    "np.delete(anyArray, 0, axis=1)"
   ]
  },
  {
   "cell_type": "markdown",
   "id": "acf5d866",
   "metadata": {},
   "source": [
    "<h2>File Management</h2>"
   ]
  },
  {
   "cell_type": "code",
   "execution_count": 275,
   "id": "b78bf557",
   "metadata": {},
   "outputs": [],
   "source": [
    "# Save to current directory\n",
    "np.save('Any Array', anyArray)"
   ]
  },
  {
   "cell_type": "code",
   "execution_count": 277,
   "id": "4200ae60",
   "metadata": {},
   "outputs": [
    {
     "data": {
      "text/plain": [
       "array([[[0.35253154, 0.74681324],\n",
       "        [0.67139594, 0.78821017],\n",
       "        [0.49799985, 0.09970005],\n",
       "        [0.677165  , 0.36885184],\n",
       "        [0.75575336, 0.16273419]],\n",
       "\n",
       "       [[0.16966685, 0.76690817],\n",
       "        [0.68527226, 0.5316314 ],\n",
       "        [0.49505123, 0.49134671],\n",
       "        [0.0796984 , 0.56396864],\n",
       "        [0.96807573, 0.12827742]],\n",
       "\n",
       "       [[0.362001  , 0.79544927],\n",
       "        [0.2128533 , 0.9614521 ],\n",
       "        [0.29737016, 0.35067423],\n",
       "        [0.56234977, 0.34027417],\n",
       "        [0.05662399, 0.47637933]],\n",
       "\n",
       "       [[0.49775483, 0.59102266],\n",
       "        [0.99061465, 0.90902119],\n",
       "        [0.94762893, 0.06078625],\n",
       "        [0.80005583, 0.8613111 ],\n",
       "        [0.84117842, 0.27014171]],\n",
       "\n",
       "       [[0.72988583, 0.39904536],\n",
       "        [0.44417802, 0.61545773],\n",
       "        [0.26481397, 0.39350946],\n",
       "        [0.47634533, 0.57830068],\n",
       "        [0.91891556, 0.52744863]]])"
      ]
     },
     "execution_count": 277,
     "metadata": {},
     "output_type": "execute_result"
    }
   ],
   "source": [
    "# Load from current directory\n",
    "loaded = np.load('Any Array.npy')\n",
    "loaded"
   ]
  }
 ],
 "metadata": {
  "kernelspec": {
   "display_name": "Python 3 (ipykernel)",
   "language": "python",
   "name": "python3"
  },
  "language_info": {
   "codemirror_mode": {
    "name": "ipython",
    "version": 3
   },
   "file_extension": ".py",
   "mimetype": "text/x-python",
   "name": "python",
   "nbconvert_exporter": "python",
   "pygments_lexer": "ipython3",
   "version": "3.9.13"
  }
 },
 "nbformat": 4,
 "nbformat_minor": 5
}
