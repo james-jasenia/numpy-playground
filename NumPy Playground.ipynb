{
 "cells": [
  {
   "cell_type": "markdown",
   "id": "c69d0401",
   "metadata": {},
   "source": [
    "<h1 style=\"color:blue;text-align:center;\">NumPy Playground</h1>"
   ]
  },
  {
   "cell_type": "markdown",
   "id": "1511821a",
   "metadata": {},
   "source": [
    "<h2>Imports</h2>"
   ]
  },
  {
   "cell_type": "code",
   "execution_count": 12,
   "id": "d38271d0",
   "metadata": {},
   "outputs": [],
   "source": [
    "import numpy as np"
   ]
  },
  {
   "cell_type": "markdown",
   "id": "7e9c3e3b",
   "metadata": {},
   "source": [
    "<h2>Create</h2>"
   ]
  },
  {
   "cell_type": "code",
   "execution_count": 157,
   "id": "e25aec8a",
   "metadata": {},
   "outputs": [
    {
     "data": {
      "text/plain": [
       "array([[0.72319549, 0.39502007],\n",
       "       [0.13944012, 0.0719303 ],\n",
       "       [0.65223496, 0.36249108]])"
      ]
     },
     "execution_count": 157,
     "metadata": {},
     "output_type": "execute_result"
    }
   ],
   "source": [
    "# Will create a random array with comma seperated parameters representing the number of indexes in each dimensions of the array.\n",
    "# An additional parameter will add an additional dimension.\n",
    "\n",
    "floatData = np.random.rand(3,2)\n",
    "floatData"
   ]
  },
  {
   "cell_type": "code",
   "execution_count": 158,
   "id": "c265d750",
   "metadata": {},
   "outputs": [
    {
     "data": {
      "text/plain": [
       "array([[8, 9],\n",
       "       [3, 0],\n",
       "       [2, 5]])"
      ]
     },
     "execution_count": 158,
     "metadata": {},
     "output_type": "execute_result"
    }
   ],
   "source": [
    "# Different data types have differnet way of specificying the number of dimensions which is a little tilting.\n",
    "intData = np.random.randint(10, size=(3,2))\n",
    "intData"
   ]
  },
  {
   "cell_type": "code",
   "execution_count": 159,
   "id": "c53fe746",
   "metadata": {},
   "outputs": [
    {
     "data": {
      "text/plain": [
       "array([[0, 0]])"
      ]
     },
     "execution_count": 159,
     "metadata": {},
     "output_type": "execute_result"
    }
   ],
   "source": [
    "# The shape is the first parameter as a tuple.\n",
    "zeroes = np.zeros((1, 2), dtype=int)\n",
    "zeroes"
   ]
  },
  {
   "cell_type": "code",
   "execution_count": 160,
   "id": "694835cf",
   "metadata": {},
   "outputs": [
    {
     "data": {
      "text/plain": [
       "array([[7, 7, 7],\n",
       "       [7, 7, 7]])"
      ]
     },
     "execution_count": 160,
     "metadata": {},
     "output_type": "execute_result"
    }
   ],
   "source": [
    "# The shape is the first parameter as a tuple.\n",
    "full = np.full((2, 3), 7)\n",
    "full"
   ]
  },
  {
   "cell_type": "code",
   "execution_count": 164,
   "id": "32aef566",
   "metadata": {},
   "outputs": [
    {
     "data": {
      "text/plain": [
       "array([[[1, 1],\n",
       "        [1, 1]],\n",
       "\n",
       "       [[1, 1],\n",
       "        [1, 1]]])"
      ]
     },
     "execution_count": 164,
     "metadata": {},
     "output_type": "execute_result"
    }
   ],
   "source": [
    "# The shape is the first parameter as a tuple.\n",
    "ones = np.ones((2,2,2), dtype=int)\n",
    "ones"
   ]
  },
  {
   "cell_type": "code",
   "execution_count": 165,
   "id": "003959ed",
   "metadata": {},
   "outputs": [
    {
     "name": "stdout",
     "output_type": "stream",
     "text": [
      "[2 3 4]\n"
     ]
    }
   ],
   "source": [
    "\n",
    "initArray = np.array([2,3,4])\n",
    "print(initArray)"
   ]
  }
 ],
 "metadata": {
  "kernelspec": {
   "display_name": "Python 3 (ipykernel)",
   "language": "python",
   "name": "python3"
  },
  "language_info": {
   "codemirror_mode": {
    "name": "ipython",
    "version": 3
   },
   "file_extension": ".py",
   "mimetype": "text/x-python",
   "name": "python",
   "nbconvert_exporter": "python",
   "pygments_lexer": "ipython3",
   "version": "3.9.13"
  }
 },
 "nbformat": 4,
 "nbformat_minor": 5
}
